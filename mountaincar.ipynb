{
 "cells": [
  {
   "cell_type": "code",
   "execution_count": 1,
   "metadata": {},
   "outputs": [],
   "source": [
    "import numpy as np\n",
    "import matplotlib.pyplot as plt\n",
    "from math import floor\n",
    "from celluloid import Camera\n",
    "import gym\n",
    "env = gym.make('MountainCar-v0')"
   ]
  },
  {
   "cell_type": "markdown",
   "metadata": {},
   "source": [
    "### Exploration"
   ]
  },
  {
   "cell_type": "code",
   "execution_count": 2,
   "metadata": {},
   "outputs": [
    {
     "data": {
      "text/plain": [
       "(array([-0.51547366,  0.        ], dtype=float32), {})"
      ]
     },
     "execution_count": 2,
     "metadata": {},
     "output_type": "execute_result"
    }
   ],
   "source": [
    "env.reset()"
   ]
  },
  {
   "cell_type": "code",
   "execution_count": 3,
   "metadata": {},
   "outputs": [
    {
     "name": "stdout",
     "output_type": "stream",
     "text": [
      "The observation space: Box([-1.2  -0.07], [0.6  0.07], (2,), float32)\n"
     ]
    }
   ],
   "source": [
    "# observation space\n",
    "obs_space = env.observation_space\n",
    "print(\"The observation space: {}\".format(obs_space))"
   ]
  },
  {
   "cell_type": "code",
   "execution_count": 4,
   "metadata": {},
   "outputs": [
    {
     "name": "stdout",
     "output_type": "stream",
     "text": [
      "The action space: Discrete(3)\n"
     ]
    }
   ],
   "source": [
    "# action space\n",
    "action_space = env.action_space\n",
    "print(\"The action space: {}\".format(action_space))"
   ]
  },
  {
   "cell_type": "code",
   "execution_count": 5,
   "metadata": {},
   "outputs": [
    {
     "name": "stdout",
     "output_type": "stream",
     "text": [
      "1\n"
     ]
    }
   ],
   "source": [
    "print(env.action_space.sample())"
   ]
  },
  {
   "cell_type": "markdown",
   "metadata": {},
   "source": [
    "### Q-Learning"
   ]
  },
  {
   "cell_type": "markdown",
   "metadata": {},
   "source": [
    "source: https://medium.com/@bradfordgill/q-learning-with-numpy-mountain-car-feaef1c4ed1a"
   ]
  },
  {
   "cell_type": "code",
   "execution_count": 6,
   "metadata": {},
   "outputs": [],
   "source": [
    "POSITION_SPACE = (-1.2, .6)\n",
    "VELO_SPACE = (-.07, .07)\n",
    "ACTION_SPACE = [-1, 0, 1]\n",
    "START_RANGE = (-.6, -.4)"
   ]
  },
  {
   "cell_type": "code",
   "execution_count": 7,
   "metadata": {},
   "outputs": [],
   "source": [
    "class Q_table():\n",
    "    def __init__(self, discrete_ps = 30, discrete_vs = 30, discrete_as = 3):\n",
    "        \"\"\"\n",
    "        discrete_ps: positon dim length \n",
    "        discrete_vs: velocity dim length \n",
    "        discrete_as: actions dim length \n",
    "        \"\"\"\n",
    "        self.p_len, self.v_len, self.a_len = discrete_ps, discrete_vs, discrete_as # store the size of each dimension\n",
    "        self.table = np.zeros((discrete_ps, discrete_vs, discrete_as)) # create the Q table initialized to 0\n",
    "        \n",
    "        # create mappings from position, velocity, and action to indexes\n",
    "        self.map_p_to_i = lambda p: floor((p - POSITION_SPACE[0])  / (POSITION_SPACE[1] - POSITION_SPACE[0]) * (discrete_ps - 1))\n",
    "        self.map_v_to_i = lambda v: floor((v - VELO_SPACE[0])  / (VELO_SPACE[1] - VELO_SPACE[0]) * (discrete_vs - 1))\n",
    "        self.map_a_to_i = lambda a: floor(a + 1)\n",
    "        mappings = [self.map_p_to_i, self.map_v_to_i, self.map_a_to_i]\n",
    "        self.map_pva_to_ijk = lambda p, v, a: [f(x) for x, f in zip([p, v, a], mappings)] # takes in p, v, and a returns the corresponding index \n",
    "        # this mapping may seem complicated but it limited my production time so I made the sacrifice \n",
    "\n",
    "    def get_value(self, p, v, a):\n",
    "        i, j, k = self.map_pva_to_ijk(p, v, a) # return corresponding index to p, v, a\n",
    "        return self.table[i, j, k]\n",
    "    \n",
    "    def get_random_action(self, *args): # args is included to allow p, v variables to be passed to function even though they are not need\n",
    "        return np.random.choice(ACTION_SPACE) # return a random action from the action space\n",
    "\n",
    "    def get_best_action(self, p, v): \n",
    "        return np.argmax(self.table[self.map_p_to_i(p), self.map_v_to_i(v), :]) - 1 # will return the best estimated action from [-1, 0, 1]\n",
    "\n",
    "    def update_state(self, p, v, a):\n",
    "        v += a  * 0.001 - np.cos(3 * p) * 0.0025 # update velocity \n",
    "        v = np.clip(v, *VELO_SPACE) # limit velocity to velocity space\n",
    "        p += v # increment p\n",
    "        if p < POSITION_SPACE[0] and v < 0: # if the agent is past the far left boundry and moving left\n",
    "            p = POSITION_SPACE[0] # set position to left edge of pos space\n",
    "            v = 0 # set velo = 0 \n",
    "        return p, v\n",
    "\n",
    "    def update_Q(self, reward, lr, discount, p, v, a): \n",
    "        \"\"\"\n",
    "        this updates the Q value based on the bellman equation: https://en.wikipedia.org/wiki/Bellman_equation\n",
    "        \"\"\"\n",
    "        i, j, k = self.map_pva_to_ijk(p, v, a)  # self.mappings countian the mapping of p, v, a to an index, the zip returns a\n",
    "        # tuple of a mapping function and a corresponding variable, \n",
    "        Q = self.table[i, j, k] \n",
    "        p_prime, v_prime = self.update_state(p, v, a) # tuple of new state\n",
    "        i_prime, j_prime = self.map_pva_to_ijk(p_prime, v_prime, 0)[:2] # get the indexes corresponding to the next state\n",
    "        i_prime, j_prime = min(self.p_len - 1, i_prime), min(self.v_len - 1, j_prime) # prevent the next state from being out of bounds\n",
    "        # bellman eq: Qnew = Q + lr(reward + discount * best_action_est, - Q) \n",
    "        self.table[i, j, k] = Q + lr * (reward + discount * np.max(self.table[i_prime, j_prime, :]) - Q) # update Q value "
   ]
  },
  {
   "cell_type": "code",
   "execution_count": 8,
   "metadata": {},
   "outputs": [],
   "source": [
    "def simulate(discount, lr, e_decay_rate, num_episodes = 5000, return_table = False, epsilon_min = 0.01, episode_length = 250):\n",
    "    rewards = np.zeros(num_episodes) # create an array of awards with an index for each episode\n",
    "    Qt = Q_table() # init Q table \n",
    "    epsilon = 1 # prob of exploring, 1 - epsilon = prob of exploiting (best)\n",
    "    e_decay = lambda e: max(e * e_decay_rate, epsilon_min) # how fast epsilon decays, the min value comes from deep minds paper\n",
    "    for i in range(num_episodes): # loop over each episode \n",
    "        p, v = np.random.uniform(*START_RANGE), 0 # init p and v for the episode \n",
    "        reward = 0 # set reward counter to 0 \n",
    "        while p < POSITION_SPACE[1] and reward < episode_length: # check if goal is reached and the episode isnt longer than episode_length \n",
    "            a_fn = np.random.choice([Qt.get_best_action, Qt.get_random_action], p = [1 - epsilon, epsilon]) # select exploiting function or exploring function \n",
    "            a = a_fn(p, v) # get approiate action\n",
    "            Qt.update_Q(-1, lr, discount, p, v, a) # update Q table\n",
    "            p, v = Qt.update_state(p, v, a) # get next state and action\n",
    "            reward += 1 # incremnent reward \n",
    "        rewards[i] = reward # store reward of this episode in the corresponding index\n",
    "        epsilon = e_decay(epsilon) # decay epsilon \n",
    "    if return_table:\n",
    "        return rewards, Qt # return the table if requested, allows me live graph the process \n",
    "    else:\n",
    "        return rewards"
   ]
  },
  {
   "cell_type": "code",
   "execution_count": 9,
   "metadata": {},
   "outputs": [],
   "source": [
    "def hyper_search():\n",
    "    \"\"\"\n",
    "    Lets do some hyperparam search! I am using an interative random search method. I will do a few trails, see what hyper params work and dont work then from\n",
    "    there iterate. \n",
    "    \"\"\"\n",
    "    trials = 20 # number of trials to do in search \n",
    "    scores = [] # array to keep track of the score of each trial \n",
    "    discount_range = (.1, 1.) # range that discount can be between \n",
    "    lr_range = (.1, .4) # range that lr can be between\n",
    "    e_decay_range = (.5, 1.) # range that epsilon decay can be in \n",
    "    hp = {} # dict to store hyper params in \n",
    "    hp['discount'] = np.random.uniform(*discount_range, trials)\n",
    "    hp['lr'] = np.random.uniform(*lr_range, trials)\n",
    "    hp['epsilon_decay'] = np.random.uniform(*e_decay_range, trials)\n",
    "\n",
    "    for i in range(trials): # for each trail\n",
    "        hold = (hp['discount'][i], hp['lr'][i], hp['epsilon_decay'][i]) # tuple hold for func params\n",
    "        score = simulate(*hold) # simulate with given hyper params\n",
    "        scores.append(score) # append score to scores\n",
    "        print(\"score: {}, discount: {}, lr: {}, epsilon_decay: {}\".format(np.average(score[-500:]), *hold)) # print results \n",
    "\n",
    "    fig, axs = plt.subplots(3, 1) # create figure and 3 axes rows \n",
    "    for ax, key in zip(axs, hp.keys()): \n",
    "        ax.scatter(hp[key], np.average(scores[i])) # plot values for visual analysis \n",
    "        ax.set_title(key) # title graph \n",
    "    fig.show()"
   ]
  },
  {
   "cell_type": "code",
   "execution_count": 10,
   "metadata": {},
   "outputs": [
    {
     "name": "stderr",
     "output_type": "stream",
     "text": [
      "MovieWriter Pillow unavailable; using Pillow instead.\n"
     ]
    },
    {
     "data": {
      "image/png": "[encoded data removed]",
      "text/plain": [
       "<Figure size 800x500 with 1 Axes>"
      ]
     },
     "metadata": {},
     "output_type": "display_data"
    },
    {
     "ename": "",
     "evalue": "",
     "output_type": "error",
     "traceback": [
      "\u001b[1;31mThe Kernel crashed while executing code in the the current cell or a previous cell. Please review the code in the cell(s) to identify a possible cause of the failure. Click <a href='https://aka.ms/vscodeJupyterKernelCrash'>here</a> for more info. View Jupyter <a href='command:jupyter.viewOutput'>log</a> for further details."
     ]
    }
   ],
   "source": [
    "def train_and_plot(lr, discount, epsilon_decay): # train the graph and show the \n",
    "    _, Qt = simulate(lr, discount, epsilon_decay, return_table = True) # get a Q table given hyper params \n",
    "    N = 400 # thanks Bill Leonard\n",
    "    x = np.linspace(*POSITION_SPACE, N) # linearly spaced array across the positon space with N indexes \n",
    "    fn = lambda x: np.sin(3*x) # function that turns x position to y value (makes the mountians)\n",
    "    y = fn(x) # create y array \n",
    "    fig, ax = plt.subplots(1, 1, figsize = (8, 5)) # create a figure and axes\n",
    "    camera = Camera(fig) # create the Camera for the animation \n",
    "    p, v = -.5, 0. # init and v \n",
    "    while p < POSITION_SPACE[1]: # run sim until \n",
    "        a = Qt.get_best_action(p, v) # get the best action given the state\n",
    "        p, v = Qt.update_state(p, v, a) # update the state based on the action \n",
    "        ax.plot(x, y, c = 'b', zorder=0) # plot mounitans repeative but im not memory constrained so im not going to rewrite\n",
    "        ax.scatter(p, fn(p), s = 25, c = 'r', zorder=5) # plot where the mountian car is, having a z order larger than the line specifies this will be on top\n",
    "        ax.set_axis_off()\n",
    "        camera.snap() # snap the frame \n",
    "    animation = camera.animate()\n",
    "    animation.save('mountaincar.gif', writer='Pillow') # save the animation as a gif (located in this folder)\n",
    "  \n",
    "if __name__ == \"__main__\": # \n",
    "    train_and_plot(.894, .282, .640)\n",
    "    #animation.save('mountaincar.gif', writer='Pillow') # save the animation as a gif (located in this folder)"
   ]
  }
 ],
 "metadata": {
  "kernelspec": {
   "display_name": "Python 3",
   "language": "python",
   "name": "python3"
  },
  "language_info": {
   "codemirror_mode": {
    "name": "ipython",
    "version": 3
   },
   "file_extension": ".py",
   "mimetype": "text/x-python",
   "name": "python",
   "nbconvert_exporter": "python",
   "pygments_lexer": "ipython3",
   "version": "3.10.0"
  },
  "orig_nbformat": 4
 },
 "nbformat": 4,
 "nbformat_minor": 2
}
